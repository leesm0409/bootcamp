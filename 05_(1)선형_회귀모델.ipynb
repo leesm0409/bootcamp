{
  "nbformat": 4,
  "nbformat_minor": 0,
  "metadata": {
    "colab": {
      "provenance": [],
      "authorship_tag": "ABX9TyP9+NbgaMsbGV33H1TSbh30",
      "include_colab_link": true
    },
    "kernelspec": {
      "name": "python3",
      "display_name": "Python 3"
    },
    "language_info": {
      "name": "python"
    }
  },
  "cells": [
    {
      "cell_type": "markdown",
      "metadata": {
        "id": "view-in-github",
        "colab_type": "text"
      },
      "source": [
        "<a href=\"https://colab.research.google.com/github/leesm0409/bootcamp/blob/main/05_(1)%EC%84%A0%ED%98%95_%ED%9A%8C%EA%B7%80%EB%AA%A8%EB%8D%B8.ipynb\" target=\"_parent\"><img src=\"https://colab.research.google.com/assets/colab-badge.svg\" alt=\"Open In Colab\"/></a>"
      ]
    },
    {
      "cell_type": "code",
      "execution_count": null,
      "metadata": {
        "colab": {
          "base_uri": "https://localhost:8080/"
        },
        "id": "n-9sdpZ5CAdc",
        "outputId": "20e07356-81d1-4c54-b4f4-6930b76bcaac"
      },
      "outputs": [
        {
          "output_type": "stream",
          "name": "stdout",
          "text": [
            "Requirement already satisfied: mglearn in /usr/local/lib/python3.10/dist-packages (0.2.0)\n",
            "Requirement already satisfied: numpy in /usr/local/lib/python3.10/dist-packages (from mglearn) (1.22.4)\n",
            "Requirement already satisfied: matplotlib in /usr/local/lib/python3.10/dist-packages (from mglearn) (3.7.1)\n",
            "Requirement already satisfied: scikit-learn in /usr/local/lib/python3.10/dist-packages (from mglearn) (1.2.2)\n",
            "Requirement already satisfied: pandas in /usr/local/lib/python3.10/dist-packages (from mglearn) (1.5.3)\n",
            "Requirement already satisfied: pillow in /usr/local/lib/python3.10/dist-packages (from mglearn) (9.4.0)\n",
            "Requirement already satisfied: cycler in /usr/local/lib/python3.10/dist-packages (from mglearn) (0.11.0)\n",
            "Requirement already satisfied: imageio in /usr/local/lib/python3.10/dist-packages (from mglearn) (2.25.1)\n",
            "Requirement already satisfied: joblib in /usr/local/lib/python3.10/dist-packages (from mglearn) (1.3.1)\n",
            "Requirement already satisfied: contourpy>=1.0.1 in /usr/local/lib/python3.10/dist-packages (from matplotlib->mglearn) (1.1.0)\n",
            "Requirement already satisfied: fonttools>=4.22.0 in /usr/local/lib/python3.10/dist-packages (from matplotlib->mglearn) (4.41.1)\n",
            "Requirement already satisfied: kiwisolver>=1.0.1 in /usr/local/lib/python3.10/dist-packages (from matplotlib->mglearn) (1.4.4)\n",
            "Requirement already satisfied: packaging>=20.0 in /usr/local/lib/python3.10/dist-packages (from matplotlib->mglearn) (23.1)\n",
            "Requirement already satisfied: pyparsing>=2.3.1 in /usr/local/lib/python3.10/dist-packages (from matplotlib->mglearn) (3.1.0)\n",
            "Requirement already satisfied: python-dateutil>=2.7 in /usr/local/lib/python3.10/dist-packages (from matplotlib->mglearn) (2.8.2)\n",
            "Requirement already satisfied: pytz>=2020.1 in /usr/local/lib/python3.10/dist-packages (from pandas->mglearn) (2022.7.1)\n",
            "Requirement already satisfied: scipy>=1.3.2 in /usr/local/lib/python3.10/dist-packages (from scikit-learn->mglearn) (1.10.1)\n",
            "Requirement already satisfied: threadpoolctl>=2.0.0 in /usr/local/lib/python3.10/dist-packages (from scikit-learn->mglearn) (3.2.0)\n",
            "Requirement already satisfied: six>=1.5 in /usr/local/lib/python3.10/dist-packages (from python-dateutil>=2.7->matplotlib->mglearn) (1.16.0)\n",
            "Requirement already satisfied: koreanize-matplotlib in /usr/local/lib/python3.10/dist-packages (0.1.1)\n",
            "Requirement already satisfied: matplotlib in /usr/local/lib/python3.10/dist-packages (from koreanize-matplotlib) (3.7.1)\n",
            "Requirement already satisfied: contourpy>=1.0.1 in /usr/local/lib/python3.10/dist-packages (from matplotlib->koreanize-matplotlib) (1.1.0)\n",
            "Requirement already satisfied: cycler>=0.10 in /usr/local/lib/python3.10/dist-packages (from matplotlib->koreanize-matplotlib) (0.11.0)\n",
            "Requirement already satisfied: fonttools>=4.22.0 in /usr/local/lib/python3.10/dist-packages (from matplotlib->koreanize-matplotlib) (4.41.1)\n",
            "Requirement already satisfied: kiwisolver>=1.0.1 in /usr/local/lib/python3.10/dist-packages (from matplotlib->koreanize-matplotlib) (1.4.4)\n",
            "Requirement already satisfied: numpy>=1.20 in /usr/local/lib/python3.10/dist-packages (from matplotlib->koreanize-matplotlib) (1.22.4)\n",
            "Requirement already satisfied: packaging>=20.0 in /usr/local/lib/python3.10/dist-packages (from matplotlib->koreanize-matplotlib) (23.1)\n",
            "Requirement already satisfied: pillow>=6.2.0 in /usr/local/lib/python3.10/dist-packages (from matplotlib->koreanize-matplotlib) (9.4.0)\n",
            "Requirement already satisfied: pyparsing>=2.3.1 in /usr/local/lib/python3.10/dist-packages (from matplotlib->koreanize-matplotlib) (3.1.0)\n",
            "Requirement already satisfied: python-dateutil>=2.7 in /usr/local/lib/python3.10/dist-packages (from matplotlib->koreanize-matplotlib) (2.8.2)\n",
            "Requirement already satisfied: six>=1.5 in /usr/local/lib/python3.10/dist-packages (from python-dateutil>=2.7->matplotlib->koreanize-matplotlib) (1.16.0)\n"
          ]
        }
      ],
      "source": [
        "!pip install mglearn\n",
        "!pip install koreanize-matplotlib"
      ]
    },
    {
      "cell_type": "markdown",
      "source": [
        "#선형 모델 - 선형 회귀 (최소 제곱법)\n",
        "\n",
        "*   선형 회귀 ( linear regression)\n",
        "*   예측과 훈련 세트에 있는 타깃 y사이의 평균제곱오차(mean squared error)를 최소화 하는 파라미터 w와 b를 찾는것\n",
        "\n"
      ],
      "metadata": {
        "id": "TWt_N7qACQrj"
      }
    },
    {
      "cell_type": "markdown",
      "source": [
        "##데이터 준비하기"
      ],
      "metadata": {
        "id": "m43wFLmIC4Et"
      }
    },
    {
      "cell_type": "code",
      "source": [
        "import mglearn\n",
        "from sklearn.linear_model import LinearRegression\n",
        "from sklearn.model_selection import train_test_split\n",
        "\n",
        "import warnings\n",
        "warnings.filterwarnings('ignore')\n",
        "\n",
        "X,y = mglearn.datasets.make_wave(n_samples=1000)"
      ],
      "metadata": {
        "id": "NPnuZEl7CYgD"
      },
      "execution_count": null,
      "outputs": []
    },
    {
      "cell_type": "markdown",
      "source": [
        "# 성능평가를 위한 데이터 분리하기 (train/test)µ∫"
      ],
      "metadata": {
        "id": "9sXrrzP3DYXH"
      }
    },
    {
      "cell_type": "code",
      "source": [
        "X_train, X_test, y_train, y_test = train_test_split(X,y, random_state=7)"
      ],
      "metadata": {
        "id": "UOd3gJc2Ddbl"
      },
      "execution_count": null,
      "outputs": []
    },
    {
      "cell_type": "code",
      "source": [
        "X_train.shape"
      ],
      "metadata": {
        "colab": {
          "base_uri": "https://localhost:8080/"
        },
        "id": "YyOlfwK_DnhX",
        "outputId": "7567d0c9-a2b7-4c7e-cc7a-be6790592142"
      },
      "execution_count": null,
      "outputs": [
        {
          "output_type": "execute_result",
          "data": {
            "text/plain": [
              "(379, 104)"
            ]
          },
          "metadata": {},
          "execution_count": 12
        }
      ]
    },
    {
      "cell_type": "code",
      "source": [
        "X_test.shape"
      ],
      "metadata": {
        "colab": {
          "base_uri": "https://localhost:8080/"
        },
        "id": "R-QQDsHdDq_7",
        "outputId": "5204164b-2a64-405d-ecc7-34ad629d7220"
      },
      "execution_count": null,
      "outputs": [
        {
          "output_type": "execute_result",
          "data": {
            "text/plain": [
              "(127, 104)"
            ]
          },
          "metadata": {},
          "execution_count": 13
        }
      ]
    },
    {
      "cell_type": "markdown",
      "source": [
        "##LinearRegression 모델 설정하기"
      ],
      "metadata": {
        "id": "sU5nOpkoD3X4"
      }
    },
    {
      "cell_type": "code",
      "source": [
        "lr = LinearRegression()"
      ],
      "metadata": {
        "id": "NcGBQUd9D86U"
      },
      "execution_count": null,
      "outputs": []
    },
    {
      "cell_type": "markdown",
      "source": [
        "##LinearRegression 모델 학습하기"
      ],
      "metadata": {
        "id": "6MBN7xFUEEx5"
      }
    },
    {
      "cell_type": "code",
      "source": [
        "lr.fit(X_train, y_train)"
      ],
      "metadata": {
        "colab": {
          "base_uri": "https://localhost:8080/",
          "height": 75
        },
        "id": "8jt9E0uFEDso",
        "outputId": "0add0b3c-f987-4d11-95ef-4a1fa5c1b7d9"
      },
      "execution_count": null,
      "outputs": [
        {
          "output_type": "execute_result",
          "data": {
            "text/plain": [
              "LinearRegression()"
            ],
            "text/html": [
              "<style>#sk-container-id-2 {color: black;background-color: white;}#sk-container-id-2 pre{padding: 0;}#sk-container-id-2 div.sk-toggleable {background-color: white;}#sk-container-id-2 label.sk-toggleable__label {cursor: pointer;display: block;width: 100%;margin-bottom: 0;padding: 0.3em;box-sizing: border-box;text-align: center;}#sk-container-id-2 label.sk-toggleable__label-arrow:before {content: \"▸\";float: left;margin-right: 0.25em;color: #696969;}#sk-container-id-2 label.sk-toggleable__label-arrow:hover:before {color: black;}#sk-container-id-2 div.sk-estimator:hover label.sk-toggleable__label-arrow:before {color: black;}#sk-container-id-2 div.sk-toggleable__content {max-height: 0;max-width: 0;overflow: hidden;text-align: left;background-color: #f0f8ff;}#sk-container-id-2 div.sk-toggleable__content pre {margin: 0.2em;color: black;border-radius: 0.25em;background-color: #f0f8ff;}#sk-container-id-2 input.sk-toggleable__control:checked~div.sk-toggleable__content {max-height: 200px;max-width: 100%;overflow: auto;}#sk-container-id-2 input.sk-toggleable__control:checked~label.sk-toggleable__label-arrow:before {content: \"▾\";}#sk-container-id-2 div.sk-estimator input.sk-toggleable__control:checked~label.sk-toggleable__label {background-color: #d4ebff;}#sk-container-id-2 div.sk-label input.sk-toggleable__control:checked~label.sk-toggleable__label {background-color: #d4ebff;}#sk-container-id-2 input.sk-hidden--visually {border: 0;clip: rect(1px 1px 1px 1px);clip: rect(1px, 1px, 1px, 1px);height: 1px;margin: -1px;overflow: hidden;padding: 0;position: absolute;width: 1px;}#sk-container-id-2 div.sk-estimator {font-family: monospace;background-color: #f0f8ff;border: 1px dotted black;border-radius: 0.25em;box-sizing: border-box;margin-bottom: 0.5em;}#sk-container-id-2 div.sk-estimator:hover {background-color: #d4ebff;}#sk-container-id-2 div.sk-parallel-item::after {content: \"\";width: 100%;border-bottom: 1px solid gray;flex-grow: 1;}#sk-container-id-2 div.sk-label:hover label.sk-toggleable__label {background-color: #d4ebff;}#sk-container-id-2 div.sk-serial::before {content: \"\";position: absolute;border-left: 1px solid gray;box-sizing: border-box;top: 0;bottom: 0;left: 50%;z-index: 0;}#sk-container-id-2 div.sk-serial {display: flex;flex-direction: column;align-items: center;background-color: white;padding-right: 0.2em;padding-left: 0.2em;position: relative;}#sk-container-id-2 div.sk-item {position: relative;z-index: 1;}#sk-container-id-2 div.sk-parallel {display: flex;align-items: stretch;justify-content: center;background-color: white;position: relative;}#sk-container-id-2 div.sk-item::before, #sk-container-id-2 div.sk-parallel-item::before {content: \"\";position: absolute;border-left: 1px solid gray;box-sizing: border-box;top: 0;bottom: 0;left: 50%;z-index: -1;}#sk-container-id-2 div.sk-parallel-item {display: flex;flex-direction: column;z-index: 1;position: relative;background-color: white;}#sk-container-id-2 div.sk-parallel-item:first-child::after {align-self: flex-end;width: 50%;}#sk-container-id-2 div.sk-parallel-item:last-child::after {align-self: flex-start;width: 50%;}#sk-container-id-2 div.sk-parallel-item:only-child::after {width: 0;}#sk-container-id-2 div.sk-dashed-wrapped {border: 1px dashed gray;margin: 0 0.4em 0.5em 0.4em;box-sizing: border-box;padding-bottom: 0.4em;background-color: white;}#sk-container-id-2 div.sk-label label {font-family: monospace;font-weight: bold;display: inline-block;line-height: 1.2em;}#sk-container-id-2 div.sk-label-container {text-align: center;}#sk-container-id-2 div.sk-container {/* jupyter's `normalize.less` sets `[hidden] { display: none; }` but bootstrap.min.css set `[hidden] { display: none !important; }` so we also need the `!important` here to be able to override the default hidden behavior on the sphinx rendered scikit-learn.org. See: https://github.com/scikit-learn/scikit-learn/issues/21755 */display: inline-block !important;position: relative;}#sk-container-id-2 div.sk-text-repr-fallback {display: none;}</style><div id=\"sk-container-id-2\" class=\"sk-top-container\"><div class=\"sk-text-repr-fallback\"><pre>LinearRegression()</pre><b>In a Jupyter environment, please rerun this cell to show the HTML representation or trust the notebook. <br />On GitHub, the HTML representation is unable to render, please try loading this page with nbviewer.org.</b></div><div class=\"sk-container\" hidden><div class=\"sk-item\"><div class=\"sk-estimator sk-toggleable\"><input class=\"sk-toggleable__control sk-hidden--visually\" id=\"sk-estimator-id-2\" type=\"checkbox\" checked><label for=\"sk-estimator-id-2\" class=\"sk-toggleable__label sk-toggleable__label-arrow\">LinearRegression</label><div class=\"sk-toggleable__content\"><pre>LinearRegression()</pre></div></div></div></div></div>"
            ]
          },
          "metadata": {},
          "execution_count": 15
        }
      ]
    },
    {
      "cell_type": "markdown",
      "source": [
        "##lr 모델 객체 확인하기"
      ],
      "metadata": {
        "id": "4oOIs7hNEXST"
      }
    },
    {
      "cell_type": "code",
      "source": [
        "print('lr.coef_ : ',lr.coef_) # 가중치 (w)\n",
        "print('lr.intercept_ : ', lr.intercept_) # 절편 (b)"
      ],
      "metadata": {
        "colab": {
          "base_uri": "https://localhost:8080/"
        },
        "id": "KpjTpqktEaGp",
        "outputId": "6fd58a93-1ade-4b4d-ce5d-1447d5ed70b7"
      },
      "execution_count": null,
      "outputs": [
        {
          "output_type": "stream",
          "name": "stdout",
          "text": [
            "lr.coef_ :  [-8.15962815e+01 -1.65165654e+01 -8.24715960e+01 -2.06713092e+01\n",
            " -2.70277685e+00  5.82819284e+01  4.07430116e+01 -6.87600882e+01\n",
            "  2.73241774e+01  2.57509390e+01  2.03128816e+01  3.88622206e+01\n",
            "  1.04008677e+00  1.95384275e+01  2.08785648e+03  6.21620312e+02\n",
            " -9.81899657e+01 -1.08654538e+02 -1.25518178e+01 -4.31748059e+01\n",
            " -1.87093189e+02  4.26331340e+02 -9.12661877e+02  2.13839393e+02\n",
            " -4.86217000e+00  1.58925879e+01 -6.05044455e+00 -2.04218167e+01\n",
            " -8.73102183e+00 -3.87833534e+01  1.82959064e+01 -5.04330468e+00\n",
            " -1.15338147e+01 -1.39249606e+01  2.31897402e+01 -3.34846027e+00\n",
            "  2.17224389e+01  4.61418338e+00  2.86119441e+01  1.48043562e-01\n",
            "  3.51191162e+01  3.40491330e+01  6.96726663e+00  5.39143718e+01\n",
            "  2.61545572e+01  5.10164568e+00 -3.13518093e+00  2.16699828e+01\n",
            " -2.18358988e+01 -2.06713092e+01 -6.22727846e+00 -1.72641831e+01\n",
            " -1.18809013e+00  4.69820515e+01  6.69049643e-01  3.79736555e+01\n",
            " -7.85876698e+00  4.29271050e+01 -4.98128226e-01 -9.41659276e+00\n",
            "  1.34581692e+01 -1.89740986e+01  5.87926851e+01 -1.87098666e+01\n",
            "  3.25700690e+01 -3.61617504e+01 -4.80902281e+00  2.83789776e+01\n",
            "  9.94768364e+00 -1.79844875e+01  7.29316818e+00  2.34539195e+00\n",
            " -5.40897247e+01 -1.91616395e+01 -9.67175844e+00 -2.24386829e+01\n",
            " -1.37399561e-01 -1.29443429e+00  3.35904962e+01 -2.49906774e+01\n",
            " -3.69596855e+00 -2.73781038e+01 -2.24825929e+01  4.88251986e+01\n",
            " -2.33206871e+01 -1.75609870e+01 -2.06032200e+01  1.72060604e+01\n",
            "  1.69596295e+01 -8.75418120e+01  8.96186336e+01 -3.33269448e+01\n",
            "  1.67715925e+00 -2.21157728e+01 -9.74580361e+00  1.54413191e+01\n",
            " -1.11746668e+01 -1.51881482e+01  1.35056308e+00  1.28184259e+00\n",
            "  1.52312483e+01 -8.45600872e+00 -7.36854101e+00  2.68652305e+01]\n",
            "lr.intercept_ :  -20.61422688457795\n"
          ]
        }
      ]
    },
    {
      "cell_type": "markdown",
      "source": [
        "## 성능 평가"
      ],
      "metadata": {
        "id": "TejsBGT9FGB1"
      }
    },
    {
      "cell_type": "code",
      "source": [
        "# score() 메서드 -> 결정계수 R2(0~1)\n",
        "#훈련데이터, 테스트데이터의 차이를 확인 -> LinearRegression -> 과소적합 상태 -> 모델 변경\n",
        "print('훈련 데이터셋의 R2: ', lr.score(X_train, y_train))\n",
        "print('테스트 데이터셋의 R2: ', lr.score(X_test, y_test))"
      ],
      "metadata": {
        "colab": {
          "base_uri": "https://localhost:8080/"
        },
        "id": "rSWKigjqFH0f",
        "outputId": "ae03adb5-680b-4412-d385-4cfd98403d74"
      },
      "execution_count": null,
      "outputs": [
        {
          "output_type": "stream",
          "name": "stdout",
          "text": [
            "훈련 데이터셋의 R2:  0.9346943102202827\n",
            "테스트 데이터셋의 R2:  0.6638439539194074\n"
          ]
        }
      ]
    },
    {
      "cell_type": "markdown",
      "source": [
        "# 보스턴 주택가격 데이터셋을 활용한 선형회귀(최소제곱법) 성능평가"
      ],
      "metadata": {
        "id": "8HNfIfqDLK9J"
      }
    },
    {
      "cell_type": "markdown",
      "source": [
        "## 데이터 준비하기"
      ],
      "metadata": {
        "id": "PH03KIwXLaIA"
      }
    },
    {
      "cell_type": "code",
      "source": [
        "X, y = mglearn.datasets.load_extended_boston()\n",
        "X.shape"
      ],
      "metadata": {
        "colab": {
          "base_uri": "https://localhost:8080/"
        },
        "id": "9R4_UAX3LSMC",
        "outputId": "fc80f00e-28bf-49e4-9f46-714e4c82e2c1"
      },
      "execution_count": null,
      "outputs": [
        {
          "output_type": "execute_result",
          "data": {
            "text/plain": [
              "(506, 104)"
            ]
          },
          "metadata": {},
          "execution_count": 18
        }
      ]
    },
    {
      "cell_type": "markdown",
      "source": [
        "## 성능 평가를 위한 데이터 분리하기"
      ],
      "metadata": {
        "id": "8YMqpC9RLtL1"
      }
    },
    {
      "cell_type": "code",
      "source": [
        "X_train, X_test, y_train, y_test = train_test_split(X,y, random_state=7)"
      ],
      "metadata": {
        "id": "GnQ7h_BvLv6H"
      },
      "execution_count": null,
      "outputs": []
    },
    {
      "cell_type": "code",
      "source": [
        "X_train.shape"
      ],
      "metadata": {
        "colab": {
          "base_uri": "https://localhost:8080/"
        },
        "id": "j6HydwSoL502",
        "outputId": "e6203c78-fa47-4380-9f71-475a68f01685"
      },
      "execution_count": null,
      "outputs": [
        {
          "output_type": "execute_result",
          "data": {
            "text/plain": [
              "(379, 104)"
            ]
          },
          "metadata": {},
          "execution_count": 21
        }
      ]
    },
    {
      "cell_type": "code",
      "source": [
        "X_test.shape"
      ],
      "metadata": {
        "colab": {
          "base_uri": "https://localhost:8080/"
        },
        "id": "La8fznR_L_yG",
        "outputId": "cda9797e-9ebb-45ef-cd82-690294bae198"
      },
      "execution_count": null,
      "outputs": [
        {
          "output_type": "execute_result",
          "data": {
            "text/plain": [
              "(127, 104)"
            ]
          },
          "metadata": {},
          "execution_count": 22
        }
      ]
    },
    {
      "cell_type": "markdown",
      "source": [
        "### 모델객체 생성 및 학습하기"
      ],
      "metadata": {
        "id": "eT7Okh5KMDTJ"
      }
    },
    {
      "cell_type": "code",
      "source": [
        "lr = LinearRegression().fit(X_train, y_train)"
      ],
      "metadata": {
        "id": "kMEPr-RjMB3f"
      },
      "execution_count": null,
      "outputs": []
    },
    {
      "cell_type": "code",
      "source": [
        "print('lr.coef_ : ',lr.coef_) # 가중치 (w)\n",
        "print('lr.intercept_ : ', lr.intercept_) # 절편 (b)"
      ],
      "metadata": {
        "colab": {
          "base_uri": "https://localhost:8080/"
        },
        "id": "SfP8GdNLMOLH",
        "outputId": "cae96f50-da79-4597-cd3c-70863387f021"
      },
      "execution_count": null,
      "outputs": [
        {
          "output_type": "stream",
          "name": "stdout",
          "text": [
            "lr.coef_ :  [-8.15962815e+01 -1.65165654e+01 -8.24715960e+01 -2.06713092e+01\n",
            " -2.70277685e+00  5.82819284e+01  4.07430116e+01 -6.87600882e+01\n",
            "  2.73241774e+01  2.57509390e+01  2.03128816e+01  3.88622206e+01\n",
            "  1.04008677e+00  1.95384275e+01  2.08785648e+03  6.21620312e+02\n",
            " -9.81899657e+01 -1.08654538e+02 -1.25518178e+01 -4.31748059e+01\n",
            " -1.87093189e+02  4.26331340e+02 -9.12661877e+02  2.13839393e+02\n",
            " -4.86217000e+00  1.58925879e+01 -6.05044455e+00 -2.04218167e+01\n",
            " -8.73102183e+00 -3.87833534e+01  1.82959064e+01 -5.04330468e+00\n",
            " -1.15338147e+01 -1.39249606e+01  2.31897402e+01 -3.34846027e+00\n",
            "  2.17224389e+01  4.61418338e+00  2.86119441e+01  1.48043562e-01\n",
            "  3.51191162e+01  3.40491330e+01  6.96726663e+00  5.39143718e+01\n",
            "  2.61545572e+01  5.10164568e+00 -3.13518093e+00  2.16699828e+01\n",
            " -2.18358988e+01 -2.06713092e+01 -6.22727846e+00 -1.72641831e+01\n",
            " -1.18809013e+00  4.69820515e+01  6.69049643e-01  3.79736555e+01\n",
            " -7.85876698e+00  4.29271050e+01 -4.98128226e-01 -9.41659276e+00\n",
            "  1.34581692e+01 -1.89740986e+01  5.87926851e+01 -1.87098666e+01\n",
            "  3.25700690e+01 -3.61617504e+01 -4.80902281e+00  2.83789776e+01\n",
            "  9.94768364e+00 -1.79844875e+01  7.29316818e+00  2.34539195e+00\n",
            " -5.40897247e+01 -1.91616395e+01 -9.67175844e+00 -2.24386829e+01\n",
            " -1.37399561e-01 -1.29443429e+00  3.35904962e+01 -2.49906774e+01\n",
            " -3.69596855e+00 -2.73781038e+01 -2.24825929e+01  4.88251986e+01\n",
            " -2.33206871e+01 -1.75609870e+01 -2.06032200e+01  1.72060604e+01\n",
            "  1.69596295e+01 -8.75418120e+01  8.96186336e+01 -3.33269448e+01\n",
            "  1.67715925e+00 -2.21157728e+01 -9.74580361e+00  1.54413191e+01\n",
            " -1.11746668e+01 -1.51881482e+01  1.35056308e+00  1.28184259e+00\n",
            "  1.52312483e+01 -8.45600872e+00 -7.36854101e+00  2.68652305e+01]\n",
            "lr.intercept_ :  -20.61422688457795\n"
          ]
        }
      ]
    },
    {
      "cell_type": "markdown",
      "source": [
        "##성능평가"
      ],
      "metadata": {
        "id": "LxN4zoxUM0TQ"
      }
    },
    {
      "cell_type": "code",
      "source": [
        "# score() 메서드 -> 결정계수 R2(0~1)\n",
        "# 훈련데이터, 테스트데이터의 차이를 확인 -> LinearRegression -> 과대접합 ->\n",
        "# 모델 복잡도가 높다 -> 모델을 단순하게 -> feature 선택 -> 모델에서는 설정 불가능 -> 모델 변경\n",
        "print('훈련 데이터셋의 R2: ', lr.score(X_train, y_train))\n",
        "print('테스트 데이터셋의 R2: ', lr.score(X_test, y_test))"
      ],
      "metadata": {
        "colab": {
          "base_uri": "https://localhost:8080/"
        },
        "id": "04vX9pAjM17C",
        "outputId": "2d573439-ca7b-4325-ec56-b7614bca4f92"
      },
      "execution_count": null,
      "outputs": [
        {
          "output_type": "stream",
          "name": "stdout",
          "text": [
            "훈련 데이터셋의 R2:  0.9346943102202827\n",
            "테스트 데이터셋의 R2:  0.6638439539194074\n"
          ]
        }
      ]
    },
    {
      "cell_type": "markdown",
      "source": [
        "## 릿지회귀 모델\n",
        "\n",
        "\n",
        "*   규제를 통해서 과대적합되지 않기 위한 선형모델 -> l2규제\n",
        "*   모든 feature를 사용하되, 필요없는 feature는 가중치를 0과 가깝게 부여\n"
      ],
      "metadata": {
        "id": "QOuh4Kp7PFKX"
      }
    },
    {
      "cell_type": "code",
      "source": [
        "from sklearn.linear_model import Ridge\n",
        "\n",
        "ridge = Ridge().fit(X_train, y_train)"
      ],
      "metadata": {
        "id": "qMs4V9SnPPEw"
      },
      "execution_count": null,
      "outputs": []
    },
    {
      "cell_type": "markdown",
      "source": [
        "## 릿지회귀 성능 평가"
      ],
      "metadata": {
        "id": "LqLzAAIPPpvM"
      }
    },
    {
      "cell_type": "code",
      "source": [
        "# score() 메서드 -> 결정계수 R2(0~1)\n",
        "# 훈련데이터, 테스트데이터의 차이를 확인 -> Ridge\n",
        "print('훈련 데이터셋의 R2: ', ridge.score(X_train, y_train))\n",
        "print('테스트 데이터셋의 R2: ', ridge.score(X_test, y_test))"
      ],
      "metadata": {
        "colab": {
          "base_uri": "https://localhost:8080/"
        },
        "id": "PROjasDbPsjq",
        "outputId": "1f33e852-0132-4aab-970a-e76e11a4544c"
      },
      "execution_count": null,
      "outputs": [
        {
          "output_type": "stream",
          "name": "stdout",
          "text": [
            "훈련 데이터셋의 R2:  0.8782955333946982\n",
            "테스트 데이터셋의 R2:  0.738794102855223\n"
          ]
        }
      ]
    },
    {
      "cell_type": "code",
      "source": [
        "# alpha =10으로 값을 올리면 -> 규제 강화 -> 공부덜하기 -> 과소접합\n",
        "ridge10 = Ridge(alpha=10).fit(X_train,y_train)\n",
        "print('훈련 데이터셋의 R2: ', ridge10.score(X_train, y_train))\n",
        "print('테스트 데이터셋의 R2: ', ridge10.score(X_test, y_test))"
      ],
      "metadata": {
        "colab": {
          "base_uri": "https://localhost:8080/"
        },
        "id": "TzLXd53-Q5D1",
        "outputId": "59650f2a-40d3-4450-ce9e-220f9d9fd22d"
      },
      "execution_count": null,
      "outputs": [
        {
          "output_type": "stream",
          "name": "stdout",
          "text": [
            "훈련 데이터셋의 R2:  0.7861139341494492\n",
            "테스트 데이터셋의 R2:  0.6621646922646183\n"
          ]
        }
      ]
    },
    {
      "cell_type": "code",
      "source": [
        "# alpha =0.01으로 값을 내리면 -> 규제 약화 -> 공부더하기 -> 모델 선택\n",
        "ridge001 = Ridge(alpha=0.01).fit(X_train,y_train)\n",
        "print('훈련 데이터셋의 R2: ', ridge001.score(X_train, y_train))\n",
        "print('테스트 데이터셋의 R2: ', ridge001.score(X_test, y_test))"
      ],
      "metadata": {
        "colab": {
          "base_uri": "https://localhost:8080/"
        },
        "id": "XH-WAaU_RUuQ",
        "outputId": "aebdd3d1-5e11-4bde-d4d7-e6fc8a9f8fb2"
      },
      "execution_count": null,
      "outputs": [
        {
          "output_type": "stream",
          "name": "stdout",
          "text": [
            "훈련 데이터셋의 R2:  0.9292111754432675\n",
            "테스트 데이터셋의 R2:  0.8067054505351405\n"
          ]
        }
      ]
    },
    {
      "cell_type": "code",
      "source": [
        "print('ridge.coef_ : ',ridge001.coef_) # 가중치 (w)\n",
        "print('ridge.intercept_ : ', ridge001.intercept_) # 절편 (b)"
      ],
      "metadata": {
        "colab": {
          "base_uri": "https://localhost:8080/"
        },
        "id": "h86pNtqqQCf6",
        "outputId": "d9b1af2f-152d-4d82-cf26-7d1b58745feb"
      },
      "execution_count": null,
      "outputs": [
        {
          "output_type": "stream",
          "name": "stdout",
          "text": [
            "ridge.coef_ :  [ -1.00392177  -7.79333003 -26.02294997  -6.20915176   0.06053036\n",
            "  38.79724668  30.19602386 -29.45807965  21.45485104  -1.97565502\n",
            "   7.39941013  39.51581979  11.04560395  18.14941426   0.28430724\n",
            "   0.62377768  -1.70447064 -18.13546707  -3.83273109  -9.81809456\n",
            "  -3.34465274  -4.12745256  -1.60447212   0.952825    -2.76491976\n",
            "   2.3011358    0.56592927  -7.46494399  -2.11418461  -6.6487611\n",
            "  12.71338788  -6.74807648 -11.95343898   0.61731735  15.70743166\n",
            "   3.0223123    3.94346046  -0.25772001  11.44134271   3.08791884\n",
            "  28.52666129  17.05536429   4.65368955  11.21058116  14.8857092\n",
            "  11.71107598 -10.80808888   2.82935109 -21.07889637  -6.20915176\n",
            "  -8.62491338  -8.30958065  -1.18019908  20.81995574   2.03848177\n",
            "  17.21110955  -0.49225052  11.99485426   1.40545177  -3.77224039\n",
            "   5.19138878 -14.72786291  17.27400825 -10.5065923   -1.72479001\n",
            " -10.05966544  -2.63188055  10.14495285  19.19524874 -13.36003815\n",
            "   0.26621248  -9.66717153 -23.95992226 -16.02568224  -2.03505806\n",
            " -24.50266756   1.16458402   1.87141818  23.44556064 -19.80938971\n",
            "  -2.35140415 -22.94444029 -16.5840364   31.46520742 -16.87540102\n",
            " -12.69140108 -11.71111984   1.94008377   5.24898103 -41.39432706\n",
            "  32.72308165  -5.47825064  -1.85172083 -17.29095416  -2.61949598\n",
            "  22.92347863   1.27341896 -12.26369018   4.64894081  -5.56932713\n",
            "   6.45694273  -6.87654387  -8.21204839  25.66837106]\n",
            "ridge.intercept_ :  -17.556916234800884\n"
          ]
        }
      ]
    },
    {
      "cell_type": "markdown",
      "source": [
        "## 라쏘 회귀모델\n",
        "\n",
        "*   규제를 통해서 과대적합되지 않기 위한 선형모델 -> l1규제\n",
        "*   모든 feature를 사용하지 않고, 필요없는 feature는 가중치를 0으로 부여"
      ],
      "metadata": {
        "id": "sSRSv4KzTJ1z"
      }
    },
    {
      "cell_type": "code",
      "source": [
        "from sklearn.linear_model import Lasso\n",
        "\n",
        "lasso = Lasso().fit(X_train, y_train) # alpha=1 규제 기본값"
      ],
      "metadata": {
        "id": "6Yeb3b-dTlK6"
      },
      "execution_count": null,
      "outputs": []
    },
    {
      "cell_type": "markdown",
      "source": [
        "### 라쏘 회귀 모델 성능 평가"
      ],
      "metadata": {
        "id": "WcbmOGusT-yU"
      }
    },
    {
      "cell_type": "code",
      "source": [
        "import numpy as np\n",
        "\n",
        "# score() 메서드 -> 결정계수 R2(0~1)\n",
        "# 훈련데이터, 테스트데이터의 차이를 확인 -> lasso -> 과소접합 -> 규제완화\n",
        "print('훈련 데이터셋의 R2: ', lasso.score(X_train, y_train))\n",
        "print('테스트 데이터셋의 R2: ', lasso.score(X_test, y_test))\n",
        "\n",
        "print('학습에 사용한 특성 개수: ', np.sum(lasso.coef_ !=0))"
      ],
      "metadata": {
        "colab": {
          "base_uri": "https://localhost:8080/"
        },
        "id": "1GLVQymBT9Ub",
        "outputId": "b9676dfb-278b-4da4-f974-e6b7503f7361"
      },
      "execution_count": null,
      "outputs": [
        {
          "output_type": "stream",
          "name": "stdout",
          "text": [
            "훈련 데이터셋의 R2:  0.26183982735234534\n",
            "테스트 데이터셋의 R2:  0.2566488052201644\n",
            "학습에 사용한 특성 개수:  4\n"
          ]
        }
      ]
    },
    {
      "cell_type": "code",
      "source": [
        "lasso001 = Lasso(alpha=0.001).fit(X_train, y_train)\n",
        "\n",
        "print('훈련 데이터셋의 R2: ', lasso001.score(X_train, y_train))\n",
        "print('테스트 데이터셋의 R2: ', lasso001.score(X_test, y_test))\n",
        "\n",
        "print('학습에 사용한 특성 개수: ', np.sum(lasso001.coef_ !=0))"
      ],
      "metadata": {
        "colab": {
          "base_uri": "https://localhost:8080/"
        },
        "id": "KrMXOAO9VHFi",
        "outputId": "027b190a-0764-4725-d676-5d0d6fcb4cec"
      },
      "execution_count": null,
      "outputs": [
        {
          "output_type": "stream",
          "name": "stdout",
          "text": [
            "훈련 데이터셋의 R2:  0.9195013210244013\n",
            "테스트 데이터셋의 R2:  0.8045222876678771\n",
            "학습에 사용한 특성 개수:  76\n"
          ]
        }
      ]
    },
    {
      "cell_type": "code",
      "source": [
        "lasso01 = Lasso(alpha=0.1).fit(X_train, y_train)\n",
        "\n",
        "print('훈련 데이터셋의 R2: ', lasso01.score(X_train, y_train))\n",
        "print('테스트 데이터셋의 R2: ', lasso01.score(X_test, y_test))\n",
        "\n",
        "print('학습에 사용한 특성 개수: ', np.sum(lasso01.coef_ !=0))"
      ],
      "metadata": {
        "colab": {
          "base_uri": "https://localhost:8080/"
        },
        "id": "ljmjTXqBVaP_",
        "outputId": "32ded268-dd61-4659-f78b-6efe5d6406bf"
      },
      "execution_count": null,
      "outputs": [
        {
          "output_type": "stream",
          "name": "stdout",
          "text": [
            "훈련 데이터셋의 R2:  0.7727672834271909\n",
            "테스트 데이터셋의 R2:  0.5788107532243617\n",
            "학습에 사용한 특성 개수:  9\n"
          ]
        }
      ]
    },
    {
      "cell_type": "code",
      "source": [
        "print('ridge.coef_ : ',lasso001.coef_) # 가중치 (w)\n",
        "print('ridge.intercept_ : ', lasso001.intercept_) # 절편 (b)"
      ],
      "metadata": {
        "colab": {
          "base_uri": "https://localhost:8080/"
        },
        "id": "b5pLHxIiUVvL",
        "outputId": "2ab5d434-cdcd-438e-9ec9-eea5e4ee7f2f"
      },
      "execution_count": null,
      "outputs": [
        {
          "output_type": "stream",
          "name": "stdout",
          "text": [
            "ridge.coef_ :  [ -0.         -19.16771426   0.46437562  -0.           5.39078749\n",
            "  23.82374693  15.91772987  -1.38395766   0.87894418  -5.24604814\n",
            "  -0.22684358  36.66975406   2.79718828  12.40691072   0.\n",
            "  -0.           0.         -23.9889637   -0.          -0.\n",
            "  -0.          -3.97751538  -0.          -0.          -5.61918927\n",
            "  -0.           0.6280917   -0.          -0.          -0.\n",
            "  20.21795442  -4.84283848  -2.94893663   0.          18.44373699\n",
            "   3.12936287   4.27470206  -0.           6.0718694    1.40391\n",
            "  23.74085168  10.21536548   0.62570975  -0.         -19.85808903\n",
            "   4.14452599 -18.55546713  -0.06449709 -22.99122549  -0.\n",
            " -11.1112784   -3.69450677  -0.37294129   4.00293123   3.04738887\n",
            "  12.95256991   1.68622512   0.           3.58353306  -2.66765096\n",
            "  -0.         -12.54267565   0.         -15.53681187  -0.13408525\n",
            "  -0.          -3.73326901   0.2679934   23.17595368  -1.58120339\n",
            "   0.          -3.95718216 -26.00973332 -14.03469186   0.\n",
            " -18.12467892  -0.           0.          11.59746584  -4.79619162\n",
            "  -0.61136709 -16.21037953  -7.52598909  15.93844342  -3.3430077\n",
            " -12.52582768  -3.31403484 -16.26202063   0.          -6.11858111\n",
            "  15.77808458  13.2706964    1.22527539  -8.03059053  -0.\n",
            "  33.46840807  -3.10704844 -18.5107364    1.90700185  -5.62814042\n",
            "   2.81473528  -6.38510889  -6.30085931  30.22894279]\n",
            "ridge.intercept_ :  -7.703535171983116\n"
          ]
        }
      ]
    }
  ]
}