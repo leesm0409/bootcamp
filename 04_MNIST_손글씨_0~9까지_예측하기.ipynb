{
  "nbformat": 4,
  "nbformat_minor": 0,
  "metadata": {
    "colab": {
      "provenance": [],
      "authorship_tag": "ABX9TyPrumP/fKxk0dRnrPCAwlkp",
      "include_colab_link": true
    },
    "kernelspec": {
      "name": "python3",
      "display_name": "Python 3"
    },
    "language_info": {
      "name": "python"
    }
  },
  "cells": [
    {
      "cell_type": "markdown",
      "metadata": {
        "id": "view-in-github",
        "colab_type": "text"
      },
      "source": [
        "<a href=\"https://colab.research.google.com/github/leesm0409/bootcamp/blob/main/04_MNIST_%EC%86%90%EA%B8%80%EC%94%A8_0~9%EA%B9%8C%EC%A7%80_%EC%98%88%EC%B8%A1%ED%95%98%EA%B8%B0.ipynb\" target=\"_parent\"><img src=\"https://colab.research.google.com/assets/colab-badge.svg\" alt=\"Open In Colab\"/></a>"
      ]
    },
    {
      "cell_type": "markdown",
      "source": [
        "# MNIST 데이터셋을 활용한 손글씨 (0~9) 예측하는 다중분류"
      ],
      "metadata": {
        "id": "OoothGmBlKUz"
      }
    },
    {
      "cell_type": "markdown",
      "source": [
        "## MNIST 데이터셋 준비하기"
      ],
      "metadata": {
        "id": "AfhqErsSlSQ3"
      }
    },
    {
      "cell_type": "code",
      "execution_count": null,
      "metadata": {
        "colab": {
          "base_uri": "https://localhost:8080/"
        },
        "id": "f3isQovsjQUS",
        "outputId": "76ee8572-473b-4f81-a4b5-caeec828ea7c"
      },
      "outputs": [
        {
          "output_type": "stream",
          "name": "stdout",
          "text": [
            "Downloading data from https://storage.googleapis.com/tensorflow/tf-keras-datasets/mnist.npz\n",
            "11490434/11490434 [==============================] - 0s 0us/step\n"
          ]
        }
      ],
      "source": [
        "from keras.datasets.mnist import load_data\n",
        "\n",
        "#케라스 저장소에서 데이터 다운로드\n",
        "(X_train, y_train), (X_test, y_test) = load_data(path='mnist.npz')"
      ]
    },
    {
      "cell_type": "markdown",
      "source": [
        "## MNIST 데이터 형태 확인하기"
      ],
      "metadata": {
        "id": "rAtaJjfgmMME"
      }
    },
    {
      "cell_type": "markdown",
      "source": [
        "### 훈련 데이터셋"
      ],
      "metadata": {
        "id": "zDGhOLAtmPyJ"
      }
    },
    {
      "cell_type": "code",
      "source": [
        "print('X_train.shape : ', X_train.shape)\n",
        "print('y_train.shape : ', y_train.shape)\n",
        "print('y_train ',y_train)"
      ],
      "metadata": {
        "colab": {
          "base_uri": "https://localhost:8080/"
        },
        "id": "AXV2bCo3mRUg",
        "outputId": "d9aa82de-1bcb-4ae1-adb3-5ec8d5bdee43"
      },
      "execution_count": null,
      "outputs": [
        {
          "output_type": "stream",
          "name": "stdout",
          "text": [
            "X_train.shape :  (60000, 28, 28)\n",
            "y_train.shape :  (60000,)\n",
            "y_train  [5 0 4 ... 5 6 8]\n"
          ]
        }
      ]
    },
    {
      "cell_type": "code",
      "source": [
        "print(X_train[0])"
      ],
      "metadata": {
        "colab": {
          "base_uri": "https://localhost:8080/"
        },
        "id": "6sAShhujm5gm",
        "outputId": "6957e903-f4d1-4e67-b443-02292e272193"
      },
      "execution_count": null,
      "outputs": [
        {
          "output_type": "stream",
          "name": "stdout",
          "text": [
            "[[  0   0   0   0   0   0   0   0   0   0   0   0   0   0   0   0   0   0\n",
            "    0   0   0   0   0   0   0   0   0   0]\n",
            " [  0   0   0   0   0   0   0   0   0   0   0   0   0   0   0   0   0   0\n",
            "    0   0   0   0   0   0   0   0   0   0]\n",
            " [  0   0   0   0   0   0   0   0   0   0   0   0   0   0   0   0   0   0\n",
            "    0   0   0   0   0   0   0   0   0   0]\n",
            " [  0   0   0   0   0   0   0   0   0   0   0   0   0   0   0   0   0   0\n",
            "    0   0   0   0   0   0   0   0   0   0]\n",
            " [  0   0   0   0   0   0   0   0   0   0   0   0   0   0   0   0   0   0\n",
            "    0   0   0   0   0   0   0   0   0   0]\n",
            " [  0   0   0   0   0   0   0   0   0   0   0   0   3  18  18  18 126 136\n",
            "  175  26 166 255 247 127   0   0   0   0]\n",
            " [  0   0   0   0   0   0   0   0  30  36  94 154 170 253 253 253 253 253\n",
            "  225 172 253 242 195  64   0   0   0   0]\n",
            " [  0   0   0   0   0   0   0  49 238 253 253 253 253 253 253 253 253 251\n",
            "   93  82  82  56  39   0   0   0   0   0]\n",
            " [  0   0   0   0   0   0   0  18 219 253 253 253 253 253 198 182 247 241\n",
            "    0   0   0   0   0   0   0   0   0   0]\n",
            " [  0   0   0   0   0   0   0   0  80 156 107 253 253 205  11   0  43 154\n",
            "    0   0   0   0   0   0   0   0   0   0]\n",
            " [  0   0   0   0   0   0   0   0   0  14   1 154 253  90   0   0   0   0\n",
            "    0   0   0   0   0   0   0   0   0   0]\n",
            " [  0   0   0   0   0   0   0   0   0   0   0 139 253 190   2   0   0   0\n",
            "    0   0   0   0   0   0   0   0   0   0]\n",
            " [  0   0   0   0   0   0   0   0   0   0   0  11 190 253  70   0   0   0\n",
            "    0   0   0   0   0   0   0   0   0   0]\n",
            " [  0   0   0   0   0   0   0   0   0   0   0   0  35 241 225 160 108   1\n",
            "    0   0   0   0   0   0   0   0   0   0]\n",
            " [  0   0   0   0   0   0   0   0   0   0   0   0   0  81 240 253 253 119\n",
            "   25   0   0   0   0   0   0   0   0   0]\n",
            " [  0   0   0   0   0   0   0   0   0   0   0   0   0   0  45 186 253 253\n",
            "  150  27   0   0   0   0   0   0   0   0]\n",
            " [  0   0   0   0   0   0   0   0   0   0   0   0   0   0   0  16  93 252\n",
            "  253 187   0   0   0   0   0   0   0   0]\n",
            " [  0   0   0   0   0   0   0   0   0   0   0   0   0   0   0   0   0 249\n",
            "  253 249  64   0   0   0   0   0   0   0]\n",
            " [  0   0   0   0   0   0   0   0   0   0   0   0   0   0  46 130 183 253\n",
            "  253 207   2   0   0   0   0   0   0   0]\n",
            " [  0   0   0   0   0   0   0   0   0   0   0   0  39 148 229 253 253 253\n",
            "  250 182   0   0   0   0   0   0   0   0]\n",
            " [  0   0   0   0   0   0   0   0   0   0  24 114 221 253 253 253 253 201\n",
            "   78   0   0   0   0   0   0   0   0   0]\n",
            " [  0   0   0   0   0   0   0   0  23  66 213 253 253 253 253 198  81   2\n",
            "    0   0   0   0   0   0   0   0   0   0]\n",
            " [  0   0   0   0   0   0  18 171 219 253 253 253 253 195  80   9   0   0\n",
            "    0   0   0   0   0   0   0   0   0   0]\n",
            " [  0   0   0   0  55 172 226 253 253 253 253 244 133  11   0   0   0   0\n",
            "    0   0   0   0   0   0   0   0   0   0]\n",
            " [  0   0   0   0 136 253 253 253 212 135 132  16   0   0   0   0   0   0\n",
            "    0   0   0   0   0   0   0   0   0   0]\n",
            " [  0   0   0   0   0   0   0   0   0   0   0   0   0   0   0   0   0   0\n",
            "    0   0   0   0   0   0   0   0   0   0]\n",
            " [  0   0   0   0   0   0   0   0   0   0   0   0   0   0   0   0   0   0\n",
            "    0   0   0   0   0   0   0   0   0   0]\n",
            " [  0   0   0   0   0   0   0   0   0   0   0   0   0   0   0   0   0   0\n",
            "    0   0   0   0   0   0   0   0   0   0]]\n"
          ]
        }
      ]
    },
    {
      "cell_type": "markdown",
      "source": [
        "### 테스트 데이터 셋"
      ],
      "metadata": {
        "id": "scxlaFaEngFV"
      }
    },
    {
      "cell_type": "code",
      "source": [
        "print('X_test.shape : ', X_test.shape)\n",
        "print('y_test.shape : ', y_test.shape)\n",
        "print('y_test ',y_test)"
      ],
      "metadata": {
        "colab": {
          "base_uri": "https://localhost:8080/"
        },
        "id": "cjyaLJnunj-M",
        "outputId": "b35b9574-8ed3-4f67-8865-b48ae1b8f7ef"
      },
      "execution_count": null,
      "outputs": [
        {
          "output_type": "stream",
          "name": "stdout",
          "text": [
            "X_test.shape :  (10000, 28, 28)\n",
            "y_test.shape :  (10000,)\n",
            "y_test  [7 2 1 ... 4 5 6]\n"
          ]
        }
      ]
    },
    {
      "cell_type": "code",
      "source": [
        "print(X_test.shape, y_test.shape)\n",
        "print(y_test)"
      ],
      "metadata": {
        "colab": {
          "base_uri": "https://localhost:8080/"
        },
        "id": "-TNjP4YHnxJb",
        "outputId": "3249f6ca-0147-46bf-b2c2-973ea911f0fb"
      },
      "execution_count": null,
      "outputs": [
        {
          "output_type": "stream",
          "name": "stdout",
          "text": [
            "(10000, 28, 28) (10000,)\n",
            "[7 2 1 ... 4 5 6]\n"
          ]
        }
      ]
    },
    {
      "cell_type": "markdown",
      "source": [
        "## 데이터 그려보기"
      ],
      "metadata": {
        "id": "RzY-LM__oPRP"
      }
    },
    {
      "cell_type": "code",
      "source": [
        "import matplotlib.pyplot as plt\n",
        "import numpy as np\n",
        "\n",
        "idx = 0\n",
        "img = X_train[idx, :]\n",
        "label = y_train[idx]\n",
        "plt.figure()\n",
        "plt.imshow(img)\n",
        "plt.title('%d-th data, label is %d' %(idx,label))\n",
        "plt.show"
      ],
      "metadata": {
        "colab": {
          "base_uri": "https://localhost:8080/",
          "height": 470
        },
        "id": "uPVHoy_FoRBK",
        "outputId": "54428707-e95b-4d3a-9d8e-7b6fc95ab637"
      },
      "execution_count": null,
      "outputs": [
        {
          "output_type": "execute_result",
          "data": {
            "text/plain": [
              "<function matplotlib.pyplot.show(close=None, block=None)>"
            ]
          },
          "metadata": {},
          "execution_count": 6
        },
        {
          "output_type": "display_data",
          "data": {
            "text/plain": [
              "<Figure size 640x480 with 1 Axes>"
            ],
            "image/png": "[encoded data removed]"
          },
          "metadata": {}
        }
      ]
    },
    {
      "cell_type": "markdown",
      "source": [
        "## 검증 데이터셋 만들기"
      ],
      "metadata": {
        "id": "c1ygP1IupcDK"
      }
    },
    {
      "cell_type": "code",
      "source": [
        "# 훈련데이터셋 -> 훈련(70%), 검증(30%) 비율로 분리\n",
        "from sklearn.model_selection import train_test_split\n",
        "\n",
        "X_train, X_val, y_train, y_val = train_test_split(X_train, y_train, test_size=0.3, random_state=7)\n",
        "print('X_train.shape',X_train.shape)\n",
        "print('X_val.shape',X_val.shape)"
      ],
      "metadata": {
        "colab": {
          "base_uri": "https://localhost:8080/"
        },
        "id": "SLwNpKHXo3_9",
        "outputId": "9fd25b7a-1e97-4862-f6bd-3601539fe0e6"
      },
      "execution_count": null,
      "outputs": [
        {
          "output_type": "stream",
          "name": "stdout",
          "text": [
            "X_train.shape (42000, 28, 28)\n",
            "X_val.shape (18000, 28, 28)\n"
          ]
        }
      ]
    },
    {
      "cell_type": "code",
      "source": [
        "print('X_train.shape',X_train.shape)\n",
        "print('X_val.shape',X_val.shape)"
      ],
      "metadata": {
        "colab": {
          "base_uri": "https://localhost:8080/"
        },
        "id": "657tqPQlqp_X",
        "outputId": "71323951-9e0a-44fa-854e-c259b34ea4ab"
      },
      "execution_count": null,
      "outputs": [
        {
          "output_type": "stream",
          "name": "stdout",
          "text": [
            "X_train.shape (42000, 28, 28)\n",
            "X_val.shape (18000, 28, 28)\n"
          ]
        }
      ]
    },
    {
      "cell_type": "markdown",
      "source": [
        "## 모델 입력을 위한 데이터 (손글씨) 전처리\n",
        "\n",
        "*   2차원 배열(28,28) -> 1차원 배열(784)로 변경\n",
        "*   스케일링(범위축소) -> 0 ~ 255  ->  0 ~ 1\n",
        "\n"
      ],
      "metadata": {
        "id": "-Y_o_QPiqrto"
      }
    },
    {
      "cell_type": "markdown",
      "source": [
        "### 2차원 배열에서 1차원 배열로 변경"
      ],
      "metadata": {
        "id": "NWM61o2Ardg7"
      }
    },
    {
      "cell_type": "code",
      "source": [
        "num_x_train = X_train.shape[0]\n",
        "num_x_val = X_val.shape[0]\n",
        "num_x_test = X_test.shape[0]\n",
        "\n",
        "print(num_x_train, num_x_val, num_x_test)"
      ],
      "metadata": {
        "colab": {
          "base_uri": "https://localhost:8080/"
        },
        "id": "EtAjHbGtrVXX",
        "outputId": "384c3bfe-1ab4-4efa-d01e-af9f1e3006b5"
      },
      "execution_count": null,
      "outputs": [
        {
          "output_type": "stream",
          "name": "stdout",
          "text": [
            "42000 18000 10000\n"
          ]
        }
      ]
    },
    {
      "cell_type": "code",
      "source": [
        "X_trian = X_train.reshape(num_x_train, 28 * 28)\n",
        "X_trian.shape"
      ],
      "metadata": {
        "colab": {
          "base_uri": "https://localhost:8080/"
        },
        "id": "FlvtDTn7sLtS",
        "outputId": "f8e08366-5609-4424-ff82-3b603001625f"
      },
      "execution_count": null,
      "outputs": [
        {
          "output_type": "execute_result",
          "data": {
            "text/plain": [
              "(42000, 784)"
            ]
          },
          "metadata": {},
          "execution_count": 10
        }
      ]
    },
    {
      "cell_type": "code",
      "source": [
        "X_val = X_val.reshape(num_x_val, 28 * 28)\n",
        "X_val.shape"
      ],
      "metadata": {
        "colab": {
          "base_uri": "https://localhost:8080/"
        },
        "id": "mTOdMbgqsxtg",
        "outputId": "1e64606a-13b4-4696-fa12-8595eb37a4cd"
      },
      "execution_count": null,
      "outputs": [
        {
          "output_type": "execute_result",
          "data": {
            "text/plain": [
              "(18000, 784)"
            ]
          },
          "metadata": {},
          "execution_count": 11
        }
      ]
    },
    {
      "cell_type": "code",
      "source": [
        "X_test = X_test.reshape(num_x_test, 28 * 28)\n",
        "X_test.shape"
      ],
      "metadata": {
        "colab": {
          "base_uri": "https://localhost:8080/"
        },
        "id": "k7tEIXzos5Cx",
        "outputId": "11daa018-cd0a-44cb-a773-af6c4b5abe8c"
      },
      "execution_count": null,
      "outputs": [
        {
          "output_type": "execute_result",
          "data": {
            "text/plain": [
              "(10000, 784)"
            ]
          },
          "metadata": {},
          "execution_count": 12
        }
      ]
    },
    {
      "cell_type": "markdown",
      "source": [
        "## 데이터 스케일링(범위 축소)"
      ],
      "metadata": {
        "id": "Av88jb1utbwl"
      }
    },
    {
      "cell_type": "code",
      "source": [
        "# 데이터의 범위가 동일 (0 ~ 255) -> (0 ~ 1)\n",
        "\n",
        "X_train = X_trian/255\n",
        "X_val = X_val/255\n",
        "X_test = X_test/255\n",
        "\n",
        "print(X_train[0])"
      ],
      "metadata": {
        "colab": {
          "base_uri": "https://localhost:8080/"
        },
        "id": "zrB8LFR6tffX",
        "outputId": "94ec0948-d365-4981-847f-3613ec626b02"
      },
      "execution_count": null,
      "outputs": [
        {
          "output_type": "stream",
          "name": "stdout",
          "text": [
            "[0.         0.         0.         0.         0.         0.\n",
            " 0.         0.         0.         0.         0.         0.\n",
            " 0.         0.         0.         0.         0.         0.\n",
            " 0.         0.         0.         0.         0.         0.\n",
            " 0.         0.         0.         0.         0.         0.\n",
            " 0.         0.         0.         0.         0.         0.\n",
            " 0.         0.         0.         0.         0.         0.\n",
            " 0.         0.         0.         0.         0.         0.\n",
            " 0.         0.         0.         0.         0.         0.\n",
            " 0.         0.         0.         0.         0.         0.\n",
            " 0.         0.         0.         0.         0.         0.\n",
            " 0.         0.         0.         0.         0.         0.\n",
            " 0.         0.         0.         0.         0.         0.\n",
            " 0.         0.         0.         0.         0.         0.\n",
            " 0.         0.         0.         0.         0.         0.\n",
            " 0.         0.         0.         0.         0.         0.\n",
            " 0.         0.         0.         0.         0.         0.\n",
            " 0.         0.         0.         0.         0.         0.\n",
            " 0.         0.         0.         0.         0.         0.\n",
            " 0.         0.         0.         0.         0.         0.\n",
            " 0.         0.         0.         0.         0.         0.\n",
            " 0.         0.         0.         0.         0.         0.\n",
            " 0.         0.         0.         0.         0.         0.\n",
            " 0.         0.         0.         0.         0.         0.\n",
            " 0.         0.         0.         0.         0.         0.\n",
            " 0.         0.         0.         0.12156863 0.76862745 0.99607843\n",
            " 0.15686275 0.         0.         0.         0.         0.\n",
            " 0.         0.         0.         0.         0.         0.\n",
            " 0.         0.         0.         0.         0.         0.\n",
            " 0.         0.         0.         0.         0.         0.\n",
            " 0.01568627 0.53333333 0.99215686 0.98431373 0.14901961 0.\n",
            " 0.         0.         0.         0.         0.         0.\n",
            " 0.         0.         0.         0.         0.         0.\n",
            " 0.         0.         0.         0.         0.         0.\n",
            " 0.         0.         0.         0.04313725 0.68627451 0.99215686\n",
            " 0.99215686 0.75686275 0.         0.         0.         0.\n",
            " 0.         0.         0.         0.         0.         0.\n",
            " 0.         0.         0.         0.         0.         0.\n",
            " 0.         0.         0.         0.         0.         0.\n",
            " 0.         0.08627451 0.52156863 0.61568627 0.99215686 0.75686275\n",
            " 0.         0.         0.         0.         0.         0.\n",
            " 0.         0.         0.         0.         0.         0.\n",
            " 0.         0.         0.         0.         0.         0.\n",
            " 0.         0.         0.         0.         0.         0.\n",
            " 0.         0.19607843 0.99215686 0.92156863 0.10588235 0.\n",
            " 0.         0.         0.         0.         0.         0.\n",
            " 0.         0.         0.         0.         0.         0.\n",
            " 0.         0.         0.         0.         0.         0.\n",
            " 0.         0.         0.         0.         0.         0.19607843\n",
            " 0.99215686 0.99215686 0.15294118 0.         0.         0.\n",
            " 0.         0.         0.         0.         0.         0.\n",
            " 0.         0.         0.         0.         0.         0.\n",
            " 0.         0.         0.         0.         0.         0.\n",
            " 0.         0.         0.         0.19607843 0.99215686 0.82352941\n",
            " 0.04313725 0.         0.         0.         0.         0.\n",
            " 0.         0.         0.         0.         0.         0.\n",
            " 0.         0.         0.         0.         0.         0.\n",
            " 0.         0.         0.         0.         0.         0.\n",
            " 0.         0.19607843 0.99215686 0.75686275 0.         0.\n",
            " 0.         0.         0.         0.         0.         0.\n",
            " 0.         0.         0.         0.         0.         0.\n",
            " 0.         0.         0.         0.         0.         0.\n",
            " 0.         0.         0.         0.         0.         0.19607843\n",
            " 0.99215686 0.85098039 0.0627451  0.         0.         0.\n",
            " 0.         0.         0.         0.         0.         0.\n",
            " 0.         0.         0.         0.         0.         0.\n",
            " 0.         0.         0.         0.         0.         0.\n",
            " 0.         0.         0.         0.19607843 0.99215686 0.75686275\n",
            " 0.         0.         0.         0.         0.         0.\n",
            " 0.         0.         0.         0.         0.         0.\n",
            " 0.         0.         0.         0.         0.         0.\n",
            " 0.         0.         0.         0.         0.         0.\n",
            " 0.         0.19607843 0.99215686 0.75686275 0.         0.\n",
            " 0.         0.         0.         0.         0.         0.\n",
            " 0.         0.         0.         0.         0.         0.\n",
            " 0.         0.         0.         0.         0.         0.\n",
            " 0.         0.         0.         0.         0.         0.19607843\n",
            " 0.99215686 0.75686275 0.         0.         0.         0.\n",
            " 0.         0.         0.         0.         0.         0.\n",
            " 0.         0.         0.         0.         0.         0.\n",
            " 0.         0.         0.         0.         0.         0.\n",
            " 0.         0.         0.         0.19607843 0.99215686 0.75686275\n",
            " 0.         0.         0.         0.         0.         0.\n",
            " 0.         0.         0.         0.         0.         0.\n",
            " 0.         0.         0.         0.         0.         0.\n",
            " 0.         0.         0.         0.         0.         0.\n",
            " 0.         0.30588235 0.99215686 0.65098039 0.         0.\n",
            " 0.         0.         0.         0.         0.         0.\n",
            " 0.         0.         0.         0.         0.         0.\n",
            " 0.         0.         0.         0.         0.         0.\n",
            " 0.         0.         0.         0.         0.         0.58431373\n",
            " 0.99215686 0.36862745 0.         0.         0.         0.\n",
            " 0.         0.         0.         0.         0.         0.\n",
            " 0.         0.         0.         0.         0.         0.\n",
            " 0.         0.         0.         0.         0.         0.\n",
            " 0.         0.         0.         0.58431373 0.99215686 0.36862745\n",
            " 0.         0.         0.         0.         0.         0.\n",
            " 0.         0.         0.         0.         0.         0.\n",
            " 0.         0.         0.         0.         0.         0.\n",
            " 0.         0.         0.         0.         0.         0.\n",
            " 0.         0.79607843 0.99215686 0.32156863 0.         0.\n",
            " 0.         0.         0.         0.         0.         0.\n",
            " 0.         0.         0.         0.         0.         0.\n",
            " 0.         0.         0.         0.         0.         0.\n",
            " 0.         0.         0.         0.         0.         0.97647059\n",
            " 0.98039216 0.13333333 0.         0.         0.         0.\n",
            " 0.         0.         0.         0.         0.         0.\n",
            " 0.         0.         0.         0.         0.         0.\n",
            " 0.         0.         0.         0.         0.         0.\n",
            " 0.         0.         0.         0.97647059 0.98431373 0.16078431\n",
            " 0.         0.         0.         0.         0.         0.\n",
            " 0.         0.         0.         0.         0.         0.\n",
            " 0.         0.         0.         0.         0.         0.\n",
            " 0.         0.         0.         0.         0.         0.\n",
            " 0.         0.51372549 0.81960784 0.         0.         0.\n",
            " 0.         0.         0.         0.         0.         0.\n",
            " 0.         0.         0.         0.         0.         0.\n",
            " 0.         0.         0.         0.         0.         0.\n",
            " 0.         0.         0.         0.         0.         0.\n",
            " 0.         0.         0.         0.         0.         0.\n",
            " 0.         0.         0.         0.         0.         0.\n",
            " 0.         0.         0.         0.         0.         0.\n",
            " 0.         0.         0.         0.         0.         0.\n",
            " 0.         0.         0.         0.         0.         0.\n",
            " 0.         0.         0.         0.         0.         0.\n",
            " 0.         0.         0.         0.         0.         0.\n",
            " 0.         0.         0.         0.         0.         0.\n",
            " 0.         0.         0.         0.         0.         0.\n",
            " 0.         0.         0.         0.         0.         0.\n",
            " 0.         0.         0.         0.         0.         0.\n",
            " 0.         0.         0.         0.        ]\n"
          ]
        }
      ]
    },
    {
      "cell_type": "markdown",
      "source": [
        "## 모델 입력을 위한 레이블(정답) 전처리"
      ],
      "metadata": {
        "id": "fCzgxnuwvu9r"
      }
    },
    {
      "cell_type": "code",
      "source": [
        "from keras.utils import to_categorical\n",
        "\n",
        "print(y_train.shape,y_train[0])\n",
        "\n",
        "#수치형 데이터(0 ~ 9) -> 범주형 데이터 형태로 변경\n",
        "y_train = to_categorical(y_train)\n",
        "y_val = to_categorical(y_val)\n",
        "y_test = to_categorical(y_test)\n",
        "print(y_train.shape,y_train[0])\n"
      ],
      "metadata": {
        "colab": {
          "base_uri": "https://localhost:8080/"
        },
        "id": "a_Tg9PETvxrs",
        "outputId": "270b1aad-b340-4d74-adc8-e9df86de4fa6"
      },
      "execution_count": null,
      "outputs": [
        {
          "output_type": "stream",
          "name": "stdout",
          "text": [
            "(42000,) 1\n",
            "(42000, 10) [0. 1. 0. 0. 0. 0. 0. 0. 0. 0.]\n"
          ]
        }
      ]
    },
    {
      "cell_type": "code",
      "source": [
        "y_train[1]"
      ],
      "metadata": {
        "colab": {
          "base_uri": "https://localhost:8080/"
        },
        "id": "gGh0SIXk3pNs",
        "outputId": "f631940f-429f-4a4f-ead2-39e680d24a27"
      },
      "execution_count": null,
      "outputs": [
        {
          "output_type": "execute_result",
          "data": {
            "text/plain": [
              "array([0., 0., 0., 0., 1., 0., 0., 0., 0., 0.], dtype=float32)"
            ]
          },
          "metadata": {},
          "execution_count": 15
        }
      ]
    },
    {
      "cell_type": "markdown",
      "source": [
        "## 모델 구성하기"
      ],
      "metadata": {
        "id": "EkErTNpU2IWn"
      }
    },
    {
      "cell_type": "code",
      "source": [
        "from keras.models import Sequential\n",
        "from keras.layers import Dense\n",
        "\n",
        "model = Sequential()\n",
        "model.add(Dense(64,activation='relu',input_shape=(784,))) # 첫번째 레이어 -> 반드시 입력을 넣어줘야함\n",
        "model.add(Dense(32,activation='relu'))\n",
        "model.add(Dense(10,activation='softmax')) # 마지막 레이어 -> 출력 (레이블 shape과 동일)"
      ],
      "metadata": {
        "id": "GZVzTYew2O1z"
      },
      "execution_count": null,
      "outputs": []
    },
    {
      "cell_type": "markdown",
      "source": [
        "## 모델 설정하기"
      ],
      "metadata": {
        "id": "X0AR7Tq940AO"
      }
    },
    {
      "cell_type": "code",
      "source": [
        "model.compile(optimizer='adam', # 옵티마이저\n",
        "              loss='categorical_crossentropy', # 손실함수\n",
        "              metrics=['acc']) # 모니터링 할 평가지표"
      ],
      "metadata": {
        "id": "c64LwWMZ4ogO"
      },
      "execution_count": null,
      "outputs": []
    },
    {
      "cell_type": "markdown",
      "source": [
        "## 모델학습하기"
      ],
      "metadata": {
        "id": "0ezNevuy5b_j"
      }
    },
    {
      "cell_type": "code",
      "source": [
        "history = model.fit(X_train, y_train, epochs=30, batch_size=128, validation_data=(X_val, y_val))"
      ],
      "metadata": {
        "colab": {
          "base_uri": "https://localhost:8080/"
        },
        "id": "IzwXMixh5d1z",
        "outputId": "1a4539b4-43e6-4cdd-b5ca-0beaa4c53cef"
      },
      "execution_count": null,
      "outputs": [
        {
          "output_type": "stream",
          "name": "stdout",
          "text": [
            "Epoch 1/30\n",
            "329/329 [==============================] - 10s 19ms/step - loss: 0.4953 - acc: 0.8559 - val_loss: 0.2605 - val_acc: 0.9264\n",
            "Epoch 2/30\n",
            "329/329 [==============================] - 6s 18ms/step - loss: 0.2048 - acc: 0.9403 - val_loss: 0.1907 - val_acc: 0.9464\n",
            "Epoch 3/30\n",
            "329/329 [==============================] - 4s 14ms/step - loss: 0.1558 - acc: 0.9545 - val_loss: 0.1598 - val_acc: 0.9553\n",
            "Epoch 4/30\n",
            "329/329 [==============================] - 3s 10ms/step - loss: 0.1273 - acc: 0.9615 - val_loss: 0.1485 - val_acc: 0.9576\n",
            "Epoch 5/30\n",
            "329/329 [==============================] - 5s 14ms/step - loss: 0.1064 - acc: 0.9686 - val_loss: 0.1329 - val_acc: 0.9623\n",
            "Epoch 6/30\n",
            "329/329 [==============================] - 4s 13ms/step - loss: 0.0908 - acc: 0.9729 - val_loss: 0.1337 - val_acc: 0.9625\n",
            "Epoch 7/30\n",
            "329/329 [==============================] - 3s 10ms/step - loss: 0.0781 - acc: 0.9770 - val_loss: 0.1214 - val_acc: 0.9653\n",
            "Epoch 8/30\n",
            "329/329 [==============================] - 2s 7ms/step - loss: 0.0683 - acc: 0.9789 - val_loss: 0.1185 - val_acc: 0.9666\n",
            "Epoch 9/30\n",
            "329/329 [==============================] - 2s 5ms/step - loss: 0.0594 - acc: 0.9822 - val_loss: 0.1202 - val_acc: 0.9667\n",
            "Epoch 10/30\n",
            "329/329 [==============================] - 2s 6ms/step - loss: 0.0520 - acc: 0.9846 - val_loss: 0.1147 - val_acc: 0.9676\n",
            "Epoch 11/30\n",
            "329/329 [==============================] - 3s 9ms/step - loss: 0.0452 - acc: 0.9867 - val_loss: 0.1145 - val_acc: 0.9682\n",
            "Epoch 12/30\n",
            "329/329 [==============================] - 2s 5ms/step - loss: 0.0396 - acc: 0.9884 - val_loss: 0.1233 - val_acc: 0.9663\n",
            "Epoch 13/30\n",
            "329/329 [==============================] - 2s 6ms/step - loss: 0.0352 - acc: 0.9898 - val_loss: 0.1119 - val_acc: 0.9687\n",
            "Epoch 14/30\n",
            "329/329 [==============================] - 3s 10ms/step - loss: 0.0317 - acc: 0.9904 - val_loss: 0.1148 - val_acc: 0.9696\n",
            "Epoch 15/30\n",
            "329/329 [==============================] - 3s 10ms/step - loss: 0.0274 - acc: 0.9919 - val_loss: 0.1157 - val_acc: 0.9688\n",
            "Epoch 16/30\n",
            "329/329 [==============================] - 4s 13ms/step - loss: 0.0240 - acc: 0.9932 - val_loss: 0.1160 - val_acc: 0.9695\n",
            "Epoch 17/30\n",
            "329/329 [==============================] - 3s 10ms/step - loss: 0.0213 - acc: 0.9940 - val_loss: 0.1272 - val_acc: 0.9676\n",
            "Epoch 18/30\n",
            "329/329 [==============================] - 4s 13ms/step - loss: 0.0183 - acc: 0.9950 - val_loss: 0.1293 - val_acc: 0.9687\n",
            "Epoch 19/30\n",
            "329/329 [==============================] - 4s 13ms/step - loss: 0.0174 - acc: 0.9950 - val_loss: 0.1264 - val_acc: 0.9698\n",
            "Epoch 20/30\n",
            "329/329 [==============================] - 4s 11ms/step - loss: 0.0153 - acc: 0.9962 - val_loss: 0.1290 - val_acc: 0.9684\n",
            "Epoch 21/30\n",
            "329/329 [==============================] - 4s 12ms/step - loss: 0.0127 - acc: 0.9968 - val_loss: 0.1332 - val_acc: 0.9691\n",
            "Epoch 22/30\n",
            "329/329 [==============================] - 3s 9ms/step - loss: 0.0122 - acc: 0.9968 - val_loss: 0.1274 - val_acc: 0.9701\n",
            "Epoch 23/30\n",
            "329/329 [==============================] - 4s 13ms/step - loss: 0.0098 - acc: 0.9976 - val_loss: 0.1428 - val_acc: 0.9680\n",
            "Epoch 24/30\n",
            "329/329 [==============================] - 4s 13ms/step - loss: 0.0076 - acc: 0.9986 - val_loss: 0.1399 - val_acc: 0.9700\n",
            "Epoch 25/30\n",
            "329/329 [==============================] - 4s 12ms/step - loss: 0.0068 - acc: 0.9988 - val_loss: 0.1456 - val_acc: 0.9688\n",
            "Epoch 26/30\n",
            "329/329 [==============================] - 4s 12ms/step - loss: 0.0131 - acc: 0.9961 - val_loss: 0.1497 - val_acc: 0.9685\n",
            "Epoch 27/30\n",
            "329/329 [==============================] - 4s 11ms/step - loss: 0.0080 - acc: 0.9981 - val_loss: 0.1508 - val_acc: 0.9696\n",
            "Epoch 28/30\n",
            "329/329 [==============================] - 3s 10ms/step - loss: 0.0100 - acc: 0.9972 - val_loss: 0.1548 - val_acc: 0.9678\n",
            "Epoch 29/30\n",
            "329/329 [==============================] - 4s 11ms/step - loss: 0.0052 - acc: 0.9989 - val_loss: 0.1465 - val_acc: 0.9707\n",
            "Epoch 30/30\n",
            "329/329 [==============================] - 4s 13ms/step - loss: 0.0030 - acc: 0.9997 - val_loss: 0.1533 - val_acc: 0.9719\n"
          ]
        }
      ]
    },
    {
      "cell_type": "markdown",
      "source": [
        "## 모델 학습 결과 분석\n",
        "\n",
        "*   Epoch 5 이후 과대적합 됨\n",
        "*   검증 데이터셋의 손실값은 상승하고, 훈련셋과 검증셋의 정확도의 거리가 점점 벌어짐\n",
        "*   Epoch 5까지만 학습시킨 모델로 평가 진행\n"
      ],
      "metadata": {
        "id": "aIzD1fmU6LN5"
      }
    },
    {
      "cell_type": "code",
      "source": [
        "import matplotlib.pyplot as plt\n",
        "\n",
        "his_dict = history.history\n",
        "loss = his_dict['loss']\n",
        "val_loss = his_dict['val_loss'] # 검증 데이터가 있는 경우 ‘val_’ 수식어가 붙습니다.\n",
        "\n",
        "epochs = range(1, len(loss) + 1)\n",
        "fig = plt.figure(figsize = (10, 5))\n",
        "\n",
        "# 훈련 및 검증 손실 그리기\n",
        "ax1 = fig.add_subplot(1, 2, 1)\n",
        "ax1.plot(epochs, loss, color = 'blue', label = 'train_loss')\n",
        "ax1.plot(epochs, val_loss, color = 'orange', label = 'val_loss')\n",
        "ax1.set_title('train and val loss')\n",
        "ax1.set_xlabel('epochs')\n",
        "ax1.set_ylabel('loss')\n",
        "ax1.legend()\n",
        "\n",
        "acc = his_dict['acc']\n",
        "val_acc = his_dict['val_acc']\n",
        "\n",
        "# 훈련 및 검증 정확도 그리기\n",
        "ax2 = fig.add_subplot(1, 2, 2)\n",
        "ax2.plot(epochs, acc, color = 'blue', label = 'train_acc')\n",
        "ax2.plot(epochs, val_acc, color = 'orange', label = 'val_acc')\n",
        "ax2.set_title('train and val acc')\n",
        "ax2.set_xlabel('epochs')\n",
        "ax2.set_ylabel('loss')\n",
        "ax2.legend()\n",
        "\n",
        "plt.show()"
      ],
      "metadata": {
        "colab": {
          "base_uri": "https://localhost:8080/",
          "height": 487
        },
        "id": "Iko_Sk8M6fYg",
        "outputId": "3d7592cc-de8e-4c60-eb86-0bdf84e11f8a"
      },
      "execution_count": null,
      "outputs": [
        {
          "output_type": "display_data",
          "data": {
            "text/plain": [
              "<Figure size 1000x500 with 2 Axes>"
            ],
            "image/png": "[encoded data removed]"
          },
          "metadata": {}
        }
      ]
    },
    {
      "cell_type": "markdown",
      "source": [
        "## 모델 수정 및 학습"
      ],
      "metadata": {
        "id": "CL6HEHLI8k2c"
      }
    },
    {
      "cell_type": "code",
      "source": [
        "# 모델 구성\n",
        "md_model = Sequential()\n",
        "md_model.add(Dense(64,activation='relu',input_shape=(784,))) # 첫번째 레이어 -> 반드시 입력을 넣어줘야함\n",
        "md_model.add(Dense(32,activation='relu'))\n",
        "md_model.add(Dense(10,activation='softmax')) # 마지막 레이어 -> 출력 (레이블 shape과 동일)\n",
        "\n",
        "#모델 설정\n",
        "md_model.compile(optimizer='adam', # 옵티마이저\n",
        "              loss='categorical_crossentropy', # 손실함수\n",
        "              metrics=['acc']) # 모니터링 할 평가지표\n",
        "\n",
        "#모델 학습\n",
        "history = md_model.fit(X_train, y_train, epochs=5, batch_size=128, validation_data=(X_val, y_val))"
      ],
      "metadata": {
        "colab": {
          "base_uri": "https://localhost:8080/"
        },
        "id": "229EXSrm8p8F",
        "outputId": "36299eee-5e9e-46d9-a79d-3122fa95f341"
      },
      "execution_count": null,
      "outputs": [
        {
          "output_type": "stream",
          "name": "stdout",
          "text": [
            "Epoch 1/5\n",
            "329/329 [==============================] - 5s 11ms/step - loss: 0.4724 - acc: 0.8654 - val_loss: 0.2557 - val_acc: 0.9269\n",
            "Epoch 2/5\n",
            "329/329 [==============================] - 3s 10ms/step - loss: 0.2039 - acc: 0.9408 - val_loss: 0.1938 - val_acc: 0.9438\n",
            "Epoch 3/5\n",
            "329/329 [==============================] - 3s 8ms/step - loss: 0.1564 - acc: 0.9535 - val_loss: 0.1609 - val_acc: 0.9526\n",
            "Epoch 4/5\n",
            "329/329 [==============================] - 3s 8ms/step - loss: 0.1271 - acc: 0.9621 - val_loss: 0.1455 - val_acc: 0.9587\n",
            "Epoch 5/5\n",
            "329/329 [==============================] - 2s 6ms/step - loss: 0.1072 - acc: 0.9688 - val_loss: 0.1365 - val_acc: 0.9613\n"
          ]
        }
      ]
    },
    {
      "cell_type": "code",
      "source": [
        "import matplotlib.pyplot as plt\n",
        "\n",
        "his_dict = history.history\n",
        "loss = his_dict['loss']\n",
        "val_loss = his_dict['val_loss'] # 검증 데이터가 있는 경우 ‘val_’ 수식어가 붙습니다.\n",
        "\n",
        "epochs = range(1, len(loss) + 1)\n",
        "fig = plt.figure(figsize = (10, 5))\n",
        "\n",
        "# 훈련 및 검증 손실 그리기\n",
        "ax1 = fig.add_subplot(1, 2, 1)\n",
        "ax1.plot(epochs, loss, color = 'blue', label = 'train_loss')\n",
        "ax1.plot(epochs, val_loss, color = 'orange', label = 'val_loss')\n",
        "ax1.set_title('train and val loss')\n",
        "ax1.set_xlabel('epochs')\n",
        "ax1.set_ylabel('loss')\n",
        "ax1.legend()\n",
        "\n",
        "acc = his_dict['acc']\n",
        "val_acc = his_dict['val_acc']\n",
        "\n",
        "# 훈련 및 검증 정확도 그리기\n",
        "ax2 = fig.add_subplot(1, 2, 2)\n",
        "ax2.plot(epochs, acc, color = 'blue', label = 'train_acc')\n",
        "ax2.plot(epochs, val_acc, color = 'orange', label = 'val_acc')\n",
        "ax2.set_title('train and val acc')\n",
        "ax2.set_xlabel('epochs')\n",
        "ax2.set_ylabel('loss')\n",
        "ax2.legend()\n",
        "\n",
        "plt.show()"
      ],
      "metadata": {
        "colab": {
          "base_uri": "https://localhost:8080/",
          "height": 482
        },
        "id": "nLEfoum39Gbr",
        "outputId": "e7707fce-eb7b-407d-9f9a-74d784608358"
      },
      "execution_count": null,
      "outputs": [
        {
          "output_type": "display_data",
          "data": {
            "text/plain": [
              "<Figure size 1000x500 with 2 Axes>"
            ],
            "image/png": "[encoded data removed]"
          },
          "metadata": {}
        }
      ]
    },
    {
      "cell_type": "markdown",
      "source": [
        "## 모델 평가하기"
      ],
      "metadata": {
        "id": "bdSptIAa9Vw2"
      }
    },
    {
      "cell_type": "code",
      "source": [
        "md_model.evaluate(X_test, y_test)"
      ],
      "metadata": {
        "colab": {
          "base_uri": "https://localhost:8080/"
        },
        "id": "9YU-UcTE9YsB",
        "outputId": "0c5fd8c5-2620-4f85-bafa-077c5baf5201"
      },
      "execution_count": null,
      "outputs": [
        {
          "output_type": "stream",
          "name": "stdout",
          "text": [
            "313/313 [==============================] - 1s 4ms/step - loss: 0.1282 - acc: 0.9614\n"
          ]
        },
        {
          "output_type": "execute_result",
          "data": {
            "text/plain": [
              "[0.1281576156616211, 0.9613999724388123]"
            ]
          },
          "metadata": {},
          "execution_count": 22
        }
      ]
    },
    {
      "cell_type": "markdown",
      "source": [
        "### 예측값을 그려서 손글씨 확인하기"
      ],
      "metadata": {
        "id": "qhgDF4Ig95vq"
      }
    },
    {
      "cell_type": "code",
      "source": [
        "results = md_model.predict(X_test)\n",
        "arg_results = np.argmax(results, axis=1) #가장 큰 값의 인덱스 리턴\n",
        "plt.imshow(X_test[0].reshape(28,28))\n",
        "plt.title('Predicted value of first image: ' + str(arg_results[1]))\n",
        "plt.show()"
      ],
      "metadata": {
        "colab": {
          "base_uri": "https://localhost:8080/",
          "height": 470
        },
        "id": "5i-p6CMd981I",
        "outputId": "d7026ea6-e923-4048-f742-d6b2812fb90d"
      },
      "execution_count": null,
      "outputs": [
        {
          "output_type": "stream",
          "name": "stdout",
          "text": [
            "313/313 [==============================] - 1s 3ms/step\n"
          ]
        },
        {
          "output_type": "display_data",
          "data": {
            "text/plain": [
              "<Figure size 640x480 with 1 Axes>"
            ],
            "image/png": "[encoded data removed]"
          },
          "metadata": {}
        }
      ]
    },
    {
      "cell_type": "markdown",
      "source": [
        "## 모델 평가방법 - 혼동 행렬\n",
        "\n",
        "*   정확도가 떨어지는(헷갈리는) 손글씨 확인\n",
        "*   숫자 5에 대한 데이터를 추가 수집하여, 재학습\n",
        "\n"
      ],
      "metadata": {
        "id": "2FnqfYXWAe_F"
      }
    },
    {
      "cell_type": "code",
      "source": [
        "from sklearn.metrics import classification_report, confusion_matrix\n",
        "import seaborn as sns\n",
        "\n",
        "#모델 예측\n",
        "y_pred = md_model.predict(X_test)\n",
        "\n",
        "# 혼동 행렬\n",
        "plt.figure(figsize=(7,7))\n",
        "cm = confusion_matrix(np.argmax(y_test, axis=1),np.argmax(y_pred, axis=1))\n",
        "sns.heatmap(cm, annot = True, fmt='d', cmap='Blues')\n",
        "plt.xlabel('predicted label')\n",
        "plt.ylabel('true label')\n",
        "plt.show()"
      ],
      "metadata": {
        "colab": {
          "base_uri": "https://localhost:8080/",
          "height": 637
        },
        "id": "HpibHbX6_qeL",
        "outputId": "618aa16f-8788-4e78-96d4-e369e1e66442"
      },
      "execution_count": null,
      "outputs": [
        {
          "output_type": "stream",
          "name": "stdout",
          "text": [
            "313/313 [==============================] - 1s 4ms/step\n"
          ]
        },
        {
          "output_type": "display_data",
          "data": {
            "text/plain": [
              "<Figure size 700x700 with 2 Axes>"
            ],
            "image/png": "[encoded data removed]"
          },
          "metadata": {}
        }
      ]
    },
    {
      "cell_type": "markdown",
      "source": [
        "## 모델 평가 방법 - 분류 보고서"
      ],
      "metadata": {
        "id": "BcYr8atpDQfk"
      }
    },
    {
      "cell_type": "code",
      "source": [
        "print('\\n', classification_report(np.argmax(y_test, axis=1),np.argmax(y_pred, axis=1)))"
      ],
      "metadata": {
        "colab": {
          "base_uri": "https://localhost:8080/"
        },
        "id": "A6t8Wh9YDXTo",
        "outputId": "2989fa43-2395-4021-fbe5-066fd6b5d2df"
      },
      "execution_count": null,
      "outputs": [
        {
          "output_type": "stream",
          "name": "stdout",
          "text": [
            "\n",
            "               precision    recall  f1-score   support\n",
            "\n",
            "           0       0.96      0.99      0.97       980\n",
            "           1       0.97      0.99      0.98      1135\n",
            "           2       0.97      0.95      0.96      1032\n",
            "           3       0.94      0.97      0.95      1010\n",
            "           4       0.97      0.95      0.96       982\n",
            "           5       0.98      0.93      0.96       892\n",
            "           6       0.96      0.97      0.97       958\n",
            "           7       0.96      0.96      0.96      1028\n",
            "           8       0.95      0.95      0.95       974\n",
            "           9       0.95      0.95      0.95      1009\n",
            "\n",
            "    accuracy                           0.96     10000\n",
            "   macro avg       0.96      0.96      0.96     10000\n",
            "weighted avg       0.96      0.96      0.96     10000\n",
            "\n"
          ]
        }
      ]
    },
    {
      "cell_type": "markdown",
      "source": [
        "## 모델 성능지표 확인\n",
        "\n",
        "\n",
        "*   micro : 각각의 TP, FN, FP, TN 값들을 모두 합친 Total TP, FN, FP, TN 값들을 이용해 계산\n",
        "*   macro : 각각의 클래스에 따라 TP, FN, FP, TN 값들을 이용해서 평가지표를 계산한 후 그 값들의 평균을 사용\n",
        "*   weighted : 각 클래스에 해당하는 data 개수에 가중치를 주어 평균을 구하는 것\n",
        "\n"
      ],
      "metadata": {
        "id": "dvqyJJnBafiW"
      }
    },
    {
      "cell_type": "code",
      "source": [
        "from  sklearn import metrics\n",
        "\n",
        "#모델 예측\n",
        "results = md_model.predict(X_test)\n",
        "\n",
        "y_pred = np.argmax(results, axis=1)\n",
        "y_true = np.argmax(y_test, axis=1)\n",
        "\n",
        "precision_micro = metrics.precision_score(y_true, y_pred, average = 'micro')\n",
        "precision_macro = metrics.precision_score(y_true, y_pred, average = 'macro')\n",
        "precision_weighted = metrics.precision_score(y_true, y_pred, average = 'weighted')\n",
        "\n",
        "print('precision_score')\n",
        "print('micro : ', precision_micro)\n",
        "print('macro : ', precision_macro)\n",
        "print('weighted : ', precision_weighted)\n",
        "print('-' * 50)\n",
        "\n",
        "recall_micro = metrics.recall_score(y_true, y_pred, average = 'micro')\n",
        "recall_macro = metrics.recall_score(y_true, y_pred, average = 'macro')\n",
        "recall_weighted = metrics.recall_score(y_true, y_pred, average = 'weighted')\n",
        "\n",
        "print('recall_score')\n",
        "print('micro : ', recall_micro)\n",
        "print('macro : ', recall_macro)\n",
        "print('weighted : ', recall_weighted)\n",
        "print('-' * 50)\n",
        "\n",
        "f1_micro = metrics.f1_score(y_true, y_pred, average = 'micro')\n",
        "f1_macro = metrics.f1_score(y_true, y_pred, average = 'macro')\n",
        "f1_weighted = metrics.f1_score(y_true, y_pred, average = 'weighted')\n",
        "\n",
        "print('f1_score')\n",
        "print('micro : ', f1_micro)\n",
        "print('macro : ', f1_macro)\n",
        "print('weighted : ', f1_weighted)"
      ],
      "metadata": {
        "colab": {
          "base_uri": "https://localhost:8080/"
        },
        "id": "r6lK3N21ahau",
        "outputId": "28652322-1415-4d28-e0ec-17c770d05c41"
      },
      "execution_count": null,
      "outputs": [
        {
          "output_type": "stream",
          "name": "stdout",
          "text": [
            "313/313 [==============================] - 1s 2ms/step\n",
            "precision_score\n",
            "micro :  0.9614\n",
            "macro :  0.9616352825607489\n",
            "weighted :  0.9615881521874633\n",
            "--------------------------------------------------\n",
            "recall_score\n",
            "micro :  0.9614\n",
            "macro :  0.9608029627234741\n",
            "weighted :  0.9614\n",
            "--------------------------------------------------\n",
            "f1_score\n",
            "micro :  0.9614\n",
            "macro :  0.961075333311792\n",
            "weighted :  0.9613557100797869\n"
          ]
        }
      ]
    }
  ]
}